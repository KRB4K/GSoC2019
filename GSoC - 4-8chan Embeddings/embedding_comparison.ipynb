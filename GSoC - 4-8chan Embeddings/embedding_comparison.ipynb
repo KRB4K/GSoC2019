{
 "cells": [
  {
   "cell_type": "code",
   "execution_count": 21,
   "metadata": {},
   "outputs": [],
   "source": [
    "import gensim\n",
    "import csv\n",
    "from grasp import grasp as g"
   ]
  },
  {
   "cell_type": "code",
   "execution_count": 22,
   "metadata": {},
   "outputs": [],
   "source": [
    "w2v = gensim.models.Word2Vec"
   ]
  },
  {
   "cell_type": "code",
   "execution_count": 34,
   "metadata": {},
   "outputs": [],
   "source": [
    "REDDIT_MODEL = \"reddit_cbow_150_5_withsw_5_0_5_v1\"\n",
    "CHAN48_MODEL = \"48chan_cbow_150_5_withsw_5_0_5_v1\"\n",
    "EN_POW_50 = \"English POW - EN - First 50.csv\"\n",
    "RESULTS_HEADER = [\"tested_word\", \"chan_pos\",\"reddit_pos\",\"chan_neg\",\"reddit_neg\"]"
   ]
  },
  {
   "cell_type": "code",
   "execution_count": 25,
   "metadata": {},
   "outputs": [],
   "source": [
    "reddit = w2v.load(REDDIT_MODEL)\n",
    "chan48 = w2v.load(CHAN48_MODEL)"
   ]
  },
  {
   "cell_type": "code",
   "execution_count": 26,
   "metadata": {},
   "outputs": [],
   "source": [
    "en_pow = g.csv(EN_POW_50)[2:]\n",
    "en_pow = [(e[3],e[5]) for e in en_pow]\n",
    "\n",
    "comparison_words = {\n",
    "    'ADJ':[\"good\", \"bad\"],\n",
    "    'NOUN':[\"human\",\"monster\"],\n",
    "    'VERB':[\"love\", \"hate\"],\n",
    "}"
   ]
  },
  {
   "cell_type": "code",
   "execution_count": 37,
   "metadata": {
    "scrolled": true
   },
   "outputs": [
    {
     "name": "stdout",
     "output_type": "stream",
     "text": [
      "Help on function similarity in module gensim.models.keyedvectors:\n",
      "\n",
      "similarity(self, w1, w2)\n",
      "    Compute cosine similarity between two words.\n",
      "    \n",
      "    Examples\n",
      "    --------\n",
      "    \n",
      "    >>> trained_model.similarity('woman', 'man')\n",
      "    0.73723527\n",
      "    \n",
      "    >>> trained_model.similarity('woman', 'woman')\n",
      "    1.0\n",
      "\n"
     ]
    }
   ],
   "source": [
    "help(gensim.models.keyedvectors.WordEmbeddingsKeyedVectors.similarity)"
   ]
  },
  {
   "cell_type": "code",
   "execution_count": 35,
   "metadata": {},
   "outputs": [],
   "source": [
    "results = []\n",
    "for tested_word, pos in en_pow:\n",
    "    result = dict.fromkeys(RESULTS_HEADER)    \n",
    "    pos_word, neg_word = comparison_words[pos][0], comparison_words[pos][1]\n",
    "    \n",
    "    result['tested_word'] = tested_word\n",
    "    result['chan_pos'] = \"{}: {}\".format(pos_word, round(chan48.wv.similarity(tested_word, pos_word),2))\n",
    "    result['chan_neg'] = \"{}: {}\".format(neg_word, round(chan48.wv.similarity(tested_word, neg_word),2))\n",
    "    result['reddit_pos'] = \"{}: {}\".format(pos_word, round(reddit.wv.similarity(tested_word, pos_word),2))\n",
    "    result['reddit_neg'] = \"{}: {}\".format(neg_word, round(reddit.wv.similarity(tested_word, neg_word),2))\n",
    "    \n",
    "    results.append(result)\n",
    "with open(\"results_embedding_comparison.csv\", \"w\",encoding=\"utf8\", newline=\"\") as f:\n",
    "    writer = csv.DictWriter(f, RESULTS_HEADER)\n",
    "    writer.writeheader()\n",
    "    writer.writerows(results)"
   ]
  }
 ],
 "metadata": {
  "kernelspec": {
   "display_name": "Python 3",
   "language": "python",
   "name": "python3"
  },
  "language_info": {
   "codemirror_mode": {
    "name": "ipython",
    "version": 3
   },
   "file_extension": ".py",
   "mimetype": "text/x-python",
   "name": "python",
   "nbconvert_exporter": "python",
   "pygments_lexer": "ipython3",
   "version": "3.7.1"
  }
 },
 "nbformat": 4,
 "nbformat_minor": 2
}
