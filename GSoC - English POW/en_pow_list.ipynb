{
 "cells": [
  {
   "cell_type": "code",
   "execution_count": 1,
   "metadata": {},
   "outputs": [],
   "source": [
    "import sys; sys.path.append(r\"C:\\Users\\Pierre\\Documents\\@ADMIN\\#KUL - IA\\_Stage\\TexTGaiN\\gab\\Personnal Gab\"); sys.path.append(r\"C:\\Users\\Pierre\\Documents\\@ADMIN\\#KUL - IA\\@Classes\\Methods of Corpus Linguistics\\FINAL PAPER\")\n",
    "import os\n",
    "from grasp import grasp as g\n",
    "import pattern.metrics as p \n",
    "import pickle\n",
    "from collections import Counter, defaultdict\n",
    "from itertools import chain\n",
    "from pprint import pprint\n",
    "import csv"
   ]
  },
  {
   "cell_type": "code",
   "execution_count": 2,
   "metadata": {},
   "outputs": [],
   "source": [
    "REDDIT_POSTS = \"reddit_posts\"\n",
    "GAB_POSTS = \"gab_posts\""
   ]
  },
  {
   "cell_type": "code",
   "execution_count": 3,
   "metadata": {},
   "outputs": [],
   "source": [
    "def kw_cont_table(kw, tc, rc):\n",
    "\t# if type(rc) or type(tc) != collections.Counter:\n",
    "\n",
    "\t# \traise TypeError(\"Must pass a Counter object for the corpora.\")\n",
    "\t\"\"\"\n",
    "\n",
    "\toutputs a contingency table for the keyword \"kw\", in the target corpus \"tc\" and the reference corpus \"rc\"\n",
    "\t\"\"\"\n",
    "\trow1 = [tc.get(kw, 0), sum(tc.values()) - tc.get(kw, 0)]\n",
    "\trow2 = [rc.get(kw, 0), sum(rc.values()) - rc.get(kw, 0)]\n",
    " \n",
    "\treturn [row1[0], row1[1], row2[0], row2[1]]\n",
    "\n",
    "\n",
    "\n"
   ]
  },
  {
   "cell_type": "code",
   "execution_count": 4,
   "metadata": {},
   "outputs": [],
   "source": [
    "def exp_freq_table(cont):\n",
    "\t\"\"\"\n",
    "\toutputs a frequency table for the keyword \"kw\", for the target corpus \"tc\" and the reference corpus \"rc\" (cf. kw_cont_table)\n",
    "\t\"\"\"\t\n",
    "\tr1 = cont[0] + cont[1]\n",
    "\tr2 = cont[2] + cont[3]\n",
    "\tc1 = cont[0] + cont[2]\n",
    "\tc2 = cont[1] + cont[3]\n",
    "\n",
    "\tn = r1 + r2\n",
    "\t\n",
    "\ta = (r1 * c1)/n\n",
    "\tb = (r1 * c2)/n\n",
    "\tc = (r2 * c1)/n\n",
    "\td = (r2 * c2)/n\n",
    "\n",
    "\treturn [a, b, c, d]"
   ]
  },
  {
   "cell_type": "code",
   "execution_count": 5,
   "metadata": {},
   "outputs": [],
   "source": [
    "def kw_pmi(kw, tc, rc, freq_filter = 5):\n",
    "\t#computes pmi value for keywords\n",
    "\t\n",
    "\tcont_table = kw_cont_table(kw, tc, rc)\n",
    "\tfreq_table = exp_freq_table(cont_table)\n",
    "\n",
    "\tif cont_table[0] >= freq_filter and kw in rc and kw in tc:\n",
    "\t\treturn math.log2(cont_table[0]/freq_table[0])\n",
    "\telse:\n",
    "\t\treturn 0.0"
   ]
  },
  {
   "cell_type": "code",
   "execution_count": 6,
   "metadata": {},
   "outputs": [],
   "source": [
    "def save(data, file=\"temp\", path = os.getcwd()):\n",
    "\t\"\"\"\n",
    "\t\tPickles a file more easily. \n",
    "\t\"\"\"\n",
    "\twith open(os.path.join(path, file), \"wb\") as f:\n",
    "\t\tpickle.dump(data, f)"
   ]
  },
  {
   "cell_type": "code",
   "execution_count": 7,
   "metadata": {},
   "outputs": [],
   "source": [
    "def load(file, path = os.getcwd()):\n",
    "\t\"\"\"\n",
    "\t\tLoads a pickled file more easily. \n",
    "\t\"\"\"\n",
    "\twhole_path = os.path.join(path, file)\n",
    "\twith open(whole_path, \"rb\") as f:\n",
    "\t\tdata = pickle.load(f)\n",
    "\treturn data"
   ]
  },
  {
   "cell_type": "markdown",
   "metadata": {},
   "source": [
    "Loading datasets"
   ]
  },
  {
   "cell_type": "code",
   "execution_count": 8,
   "metadata": {},
   "outputs": [],
   "source": [
    "gab = []\n",
    "for file in os.listdir(GAB_POSTS):\n",
    "        gab.extend(g.csv(g.cd(GAB_POSTS, file)))\n",
    "reddit  = []\n",
    "for file in os.listdir(REDDIT_POSTS):\n",
    "        reddit.extend(g.csv(g.cd(REDDIT_POSTS, file)))"
   ]
  },
  {
   "cell_type": "code",
   "execution_count": 9,
   "metadata": {},
   "outputs": [],
   "source": [
    "gab, reddit = [e[0] for e in gab], [e[0] for e in reddit]"
   ]
  },
  {
   "cell_type": "markdown",
   "metadata": {},
   "source": [
    "Pre-Processing"
   ]
  },
  {
   "cell_type": "code",
   "execution_count": 6,
   "metadata": {},
   "outputs": [],
   "source": [
    "ref = reddit \n",
    "targ = gab\n",
    "ref, targ = list(chain(ref)), list(chain(targ)) #joins all lists in one list\n",
    "ref, targ = \" \".join(ref), \" \".join(targ) #joins posts in one string\n",
    "ref, targ = g.tokenize(ref, language=\"en\"), g.tokenize(targ, language=\"en\")\n",
    "ref, targ = ref.lower(), targ.lower()\n",
    "ref, targ = ref.split(), targ.split() #split by word\n",
    "ref, targ = Counter(ref), Counter(targ)\n",
    "# print(g0.most_common(3))"
   ]
  },
  {
   "cell_type": "markdown",
   "metadata": {},
   "source": [
    "<font size=26>#################################</font>"
   ]
  },
  {
   "cell_type": "code",
   "execution_count": null,
   "metadata": {},
   "outputs": [],
   "source": [
    "sorted_targpmi = defaultdict()\n",
    "sorted_targpmi = {word:kw_pmi(word,targ, ref, freq_filter = 5) for word in targ}"
   ]
  },
  {
   "cell_type": "code",
   "execution_count": 22,
   "metadata": {},
   "outputs": [],
   "source": [
    "sorted_targpmi = [(k, pmi[0]) for k,pmi in targpmi.items()]#sorted by value\n",
    "sorted_targpmi = sorted(sorted_targpmi, key=lambda x:x[1], reverse=True)"
   ]
  },
  {
   "cell_type": "code",
   "execution_count": 27,
   "metadata": {
    "scrolled": false
   },
   "outputs": [],
   "source": [
    "pow_format = g.csv(\"pmi_reddit_gab_posts.csv\")\n",
    "pow_format.append([\"WORD\", \"PMI\"])\n",
    "pow_format.update(sorted_targpmi)\n",
    "pow_format.save()"
   ]
  }
 ],
 "metadata": {
  "kernelspec": {
   "display_name": "Python 3",
   "language": "python",
   "name": "python3"
  },
  "language_info": {
   "codemirror_mode": {
    "name": "ipython",
    "version": 3
   },
   "file_extension": ".py",
   "mimetype": "text/x-python",
   "name": "python",
   "nbconvert_exporter": "python",
   "pygments_lexer": "ipython3",
   "version": "3.7.1"
  }
 },
 "nbformat": 4,
 "nbformat_minor": 2
}
